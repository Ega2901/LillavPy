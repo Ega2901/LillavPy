{
 "cells": [
  {
   "cell_type": "code",
   "execution_count": 9,
   "id": "2f5d252c-9b7d-4387-915c-2d458e1f6ea5",
   "metadata": {
    "tags": []
   },
   "outputs": [
    {
     "name": "stdin",
     "output_type": "stream",
     "text": [
      " 1.5 6.4 8.7\n"
     ]
    }
   ],
   "source": [
    "#посчитать Объем фигуры\n",
    "# x, y, z = input().strip().split()\n",
    "x,y,z = map(float, input().strip().split())\n",
    "# strip() удаляет лишние пробелы в начале и в конце"
   ]
  },
  {
   "cell_type": "code",
   "execution_count": 8,
   "id": "07828535-a3c1-449f-a47a-82cf57defaf1",
   "metadata": {
    "tags": []
   },
   "outputs": [
    {
     "data": {
      "text/plain": [
       "(1, 2, 3)"
      ]
     },
     "execution_count": 8,
     "metadata": {},
     "output_type": "execute_result"
    }
   ],
   "source": [
    "arr = [x,y,z]\n",
    "# Как устроен map\n",
    "for el in arr:\n",
    "    el = int(arr.pop(el.index()))\n",
    "    arr.append(el)"
   ]
  },
  {
   "cell_type": "code",
   "execution_count": 12,
   "id": "24a89f78-9223-4f19-818e-e80f4a164f5a",
   "metadata": {
    "tags": []
   },
   "outputs": [],
   "source": [
    "arr = [x,y,z]"
   ]
  },
  {
   "cell_type": "code",
   "execution_count": 15,
   "id": "bc43a58b-82bc-4d5a-a195-64021bb4f552",
   "metadata": {
    "tags": []
   },
   "outputs": [
    {
     "data": {
      "text/plain": [
       "83.52000000000001"
      ]
     },
     "execution_count": 15,
     "metadata": {},
     "output_type": "execute_result"
    }
   ],
   "source": [
    "from functools import reduce\n",
    "\n",
    "volume = reduce(lambda x,y: x*y, arr)\n",
    "volume"
   ]
  },
  {
   "cell_type": "code",
   "execution_count": 16,
   "id": "40569340-7763-4b09-b6c8-b63051e77fa4",
   "metadata": {
    "tags": []
   },
   "outputs": [
    {
     "name": "stdin",
     "output_type": "stream",
     "text": [
      " 1.4 2.5 4.7\n"
     ]
    },
    {
     "data": {
      "text/plain": [
       "16.45"
      ]
     },
     "execution_count": 16,
     "metadata": {},
     "output_type": "execute_result"
    }
   ],
   "source": [
    "volume = reduce(lambda x,y: x*y, map(float, input().strip().split()))\n",
    "volume"
   ]
  },
  {
   "cell_type": "code",
   "execution_count": 17,
   "id": "551f4921-db46-4071-8430-96e858360573",
   "metadata": {
    "tags": []
   },
   "outputs": [],
   "source": [
    "names = [\"Алина\", \"Ольга\", \"Дмитрий\", \"Артем\", \"Егор\"]"
   ]
  },
  {
   "cell_type": "code",
   "execution_count": 18,
   "id": "3999aa9b-6057-412f-9a6f-bf382fd3bf22",
   "metadata": {
    "tags": []
   },
   "outputs": [
    {
     "data": {
      "text/plain": [
       "['Алина', 'Артем']"
      ]
     },
     "execution_count": 18,
     "metadata": {},
     "output_type": "execute_result"
    }
   ],
   "source": [
    "names_a = []\n",
    "for name in names:\n",
    "    if name[0] == \"А\":\n",
    "        names_a.append(name)\n",
    "names_a"
   ]
  },
  {
   "cell_type": "code",
   "execution_count": 26,
   "id": "320b1460-604e-44f9-b44c-e4c2b9c1ae24",
   "metadata": {
    "tags": []
   },
   "outputs": [
    {
     "data": {
      "text/plain": [
       "['Алина', 'Артем']"
      ]
     },
     "execution_count": 26,
     "metadata": {},
     "output_type": "execute_result"
    }
   ],
   "source": [
    "names_a = [name for name in names if name.startswith(\"А\")]\n",
    "names_a"
   ]
  },
  {
   "cell_type": "code",
   "execution_count": 39,
   "id": "dac47094-127e-490f-93b6-a9f080684ec3",
   "metadata": {
    "tags": []
   },
   "outputs": [
    {
     "data": {
      "text/plain": [
       "['Артем', 'Егор']"
      ]
     },
     "execution_count": 39,
     "metadata": {},
     "output_type": "execute_result"
    }
   ],
   "source": [
    "names_a = list(filter(lambda name: name[0] in vowels and name[-1] in cons, names))\n",
    "names_a"
   ]
  },
  {
   "cell_type": "code",
   "execution_count": 30,
   "id": "f1d5d3b1-fa06-492e-ba11-7cc2278ef8d0",
   "metadata": {
    "tags": []
   },
   "outputs": [],
   "source": [
    "vowels = \"АОЕa\"\n",
    "cons = \"Дймр\""
   ]
  },
  {
   "cell_type": "code",
   "execution_count": 31,
   "id": "8ccd7080-3012-41cf-b6e0-ca2afd142396",
   "metadata": {
    "tags": []
   },
   "outputs": [
    {
     "data": {
      "text/plain": [
       "True"
      ]
     },
     "execution_count": 31,
     "metadata": {},
     "output_type": "execute_result"
    }
   ],
   "source": []
  }
 ],
 "metadata": {
  "kernelspec": {
   "display_name": "Python 3 (ipykernel)",
   "language": "python",
   "name": "python3"
  },
  "language_info": {
   "codemirror_mode": {
    "name": "ipython",
    "version": 3
   },
   "file_extension": ".py",
   "mimetype": "text/x-python",
   "name": "python",
   "nbconvert_exporter": "python",
   "pygments_lexer": "ipython3",
   "version": "3.11.8"
  }
 },
 "nbformat": 4,
 "nbformat_minor": 5
}
