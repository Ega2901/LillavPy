{
 "cells": [
  {
   "cell_type": "markdown",
   "id": "78b088c8",
   "metadata": {},
   "source": [
    "#### 1. Индекс подобия Земле (Earth Similarity Index, $ESI$) является численной характеристикой «похожести» небесного тела на Землю. Формула: $ESI_j = \\prod\\limits_{i=1}^n \\left( 1-\\left|\\frac{x_{i,j}-x_{i,\\oplus}}{x_{i,j}+x_{i,\\oplus}} \\right|\\right)^{w_i/n}$, где $x_{i,j}$ — значение $i$-го параметра для $j$-го тела, $x_{i,\\oplus}$ — значение для Земли, $w_i$ — вес параметра. Параметры, используемые в формуле:\n",
    "\n",
    "|$i$|Параметр |Значение Земли, $x_{i,\\oplus}$|Вес, $w_i$|\n",
    "|---|---------|------------------------------|----------|\n",
    "| 1 |Радиус   | 1.0                          |0.57      |\n",
    "| 2 |Плотность| 1.0                          |1.07      |\n",
    "| 3 |Вторая космическая скорость, $v_{esc}$|1.0|0.7     |\n",
    "| 4 |Температура поверхности|288 K           |5.58      |\n",
    "\n",
    "#### $ESI$ лежит между $0$ и $1$, и чем ближе значение к $1$, тем тело более похоже на Землю (для которой $ESI$ ровно $1$). В файле `share\\ex2-6-g-esi-data.txt` в текстовом виде хранится информация о параметрах ряда небесных тел (первые 3 строки являются заголовком, разделители — пробелы). Напишите программу, которая вычисляет $ESI$ для указанных небесных тел и выводит информацию о теле, наиболее похожем на Землю."
   ]
  },
  {
   "cell_type": "code",
   "execution_count": 35,
   "id": "3f38c190-89e2-40a0-bd05-acd7df99f881",
   "metadata": {
    "tags": []
   },
   "outputs": [
    {
     "name": "stdout",
     "output_type": "stream",
     "text": [
      "Io 0.9948310161176974\n"
     ]
    }
   ],
   "source": [
    "weights = [0.57, 1.07, 0.7, 5.58]\n",
    "def calc_esi(params):\n",
    "    esi = 1\n",
    "    for i in range(len(earth_params)):\n",
    "        xi_j = params[i]\n",
    "        xi_earth = earth_params[i]\n",
    "        weight = weights[i]\n",
    "        esi *= (1 - abs(xi_j - xi_earth) / (xi_j + xi_earth)) ** (weight / 4)\n",
    "        return esi\n",
    "\n",
    "best_name = None\n",
    "best_esi = 0\n",
    "with open(\"share/ex2-6-g-esi-data.txt\") as f:\n",
    "    d = f.readlines()[3:]\n",
    "    e = d[3].split()\n",
    "    earth_params = [float(e[2]), float(e[3]), float(e[5]), float(e[7])]\n",
    "for line in d[4:]:\n",
    "    p = line.split()\n",
    "    name = p[0]\n",
    "    params = [float(p[2]), float(p[3]), float(p[5]), float(p[7])]\n",
    "    esi = calc_esi(params)\n",
    "    \n",
    "    if esi > best_esi:\n",
    "        best_esi = esi\n",
    "        best_name = name\n",
    "\n",
    "print(best_name, best_esi)\n",
    "    \n",
    "    "
   ]
  },
  {
   "cell_type": "code",
   "execution_count": 26,
   "id": "21def977-7e35-4de1-95c3-315d3b663bc8",
   "metadata": {
    "tags": []
   },
   "outputs": [
    {
     "data": {
      "text/plain": [
       "['1', '1', '1', '1', '1', '1', '288', '254']"
      ]
     },
     "execution_count": 26,
     "metadata": {},
     "output_type": "execute_result"
    }
   ],
   "source": [
    "with open(\"share/ex2-6-g-esi-data.txt\") as f:\n",
    "    d = f.readlines()\n",
    "earth_params = d[3].split()[1:]\n",
    "earth_params"
   ]
  },
  {
   "cell_type": "markdown",
   "id": "7c02ebcf",
   "metadata": {},
   "source": [
    "#### 2. Уравнение Михаэлиса-Ментен — модельное уравнение кинетики ферментативной реакции: $v =\\frac{d[P]}{dt} = \\frac{V_{max}[S]}{K_m + [S]}$, где $v$ — скорость реакции превращения субстрата $\\mathrm{S}$ в продукт $\\mathrm{P}$, катализируемой ферментом. $V_{max}$  — максимальная скорость (когда весь фермент связан с $\\mathrm{S}$) а константа Михаэлиса, $K_m$, это концентрация субстрата, при которой скорость реакции равна половине своего максимального значения.\n",
    "#### В файл `kinetics.txt` запишите две колонки: $[S]$ (точность: 3 знака после точки) и $v$ (точность: 6 знаков после точки) для реакции с $K_m = 0.04\\:\\mathrm{M}$ и $V_{max}=0.1 \\:\\mathrm {M\\cdot s^{-1}}$ в диапазоне $0 \\leqslant [S] \\leqslant 0.2$ с шагом $0.01$. Первая строка файла должна содержать названия колонок."
   ]
  },
  {
   "cell_type": "code",
   "execution_count": 41,
   "id": "b0ea2196",
   "metadata": {
    "tags": []
   },
   "outputs": [],
   "source": [
    "V_max = 0.1\n",
    "K_m = 0.04\n",
    "\n",
    "with open(\"kinetics.txt\", \"w\") as f:\n",
    "    f.write(\"[S] \\t v\\n\")\n",
    "    \n",
    "    S = 0.0\n",
    "    step = 0.01\n",
    "    \n",
    "    while S<=0.2:\n",
    "        v = (V_max*S) / (K_m + S)\n",
    "        f.write(f\"{S:.3f} \\t {v:.6f}\\n\")\n",
    "        S+=step"
   ]
  },
  {
   "cell_type": "markdown",
   "id": "0c745209",
   "metadata": {},
   "source": [
    "#### 3. В простейшем случае в качестве баз данных можно использовать словари. В ячейке ниже приведён словарь, содержащий некоторые свойства первых элементов группы IVA. Выведите эту информацию на экран в виде таблицы (в строках — элементы, в столбцах — свойства)."
   ]
  },
  {
   "cell_type": "code",
   "execution_count": 56,
   "id": "a24ab48d",
   "metadata": {
    "tags": []
   },
   "outputs": [
    {
     "name": "stdout",
     "output_type": "stream",
     "text": [
      "Element mass /u Tm /K Tb /K rho /g.cm-3 IE /eV atomic radius /pm\n",
      "C        12.0   3823   5100   3.51       11.26      77.2\n",
      "Si       28.1   1683   2628   2.33       8.15       117\n",
      "Ge       72.6   1211   3103   5.32       7.9        122.5\n"
     ]
    }
   ],
   "source": [
    "element_properties = {\n",
    "'C': {'mass /u': 12.0, 'Tm /K': 3823, 'Tb /K': 5100,\n",
    "'rho /g.cm-3': 3.51, 'IE /eV': 11.26, 'atomic radius /pm': 77.2},\n",
    "'Si': {'mass /u': 28.1, 'Tm /K': 1683, 'Tb /K': 2628,\n",
    "'rho /g.cm-3': 2.33, 'IE /eV': 8.15, 'atomic radius /pm': 117},\n",
    "'Ge': {'mass /u': 72.6, 'Tm /K': 1211, 'Tb /K': 3103,\n",
    "'rho /g.cm-3': 5.32, 'IE /eV': 7.90, 'atomic radius /pm': 122.5}\n",
    "}\n",
    "\n",
    "print(f\"{'Element':<3} {'mass /u':<3} {'Tm /K':<3} {'Tb /K':<3} {'rho /g.cm-3':<3} {'IE /eV':<3} {'atomic radius /pm':<3}\")\n",
    "\n",
    "for el, prop in element_properties.items():\n",
    "    print(f\"{el:<8} {prop['mass /u']:<6} {prop['Tm /K']:<6} {prop['Tb /K']:<6} {prop['rho /g.cm-3']:<10} {prop['IE /eV']:<10} {prop['atomic radius /pm']:<3}\")"
   ]
  },
  {
   "cell_type": "markdown",
   "id": "5c2b5207",
   "metadata": {},
   "source": [
    "#### 4. Словари (так же как и множества) можно объединять при помощи оператора `|`. Добавьте в словарь, использованный выше свойства оставшихся элементов группы IVA и выведите их на экран в виде таблицы, но теперь, наоборот: в строках содержатся свойства, а в столбцах — элементы.¶"
   ]
  },
  {
   "cell_type": "code",
   "execution_count": 73,
   "id": "baae1095",
   "metadata": {
    "tags": []
   },
   "outputs": [
    {
     "name": "stdout",
     "output_type": "stream",
     "text": [
      "Property                     C        Si        Ge        Sn        Pb\n",
      "mass /u                   12.0      28.1      72.6     118.7     207.2\n",
      "Tm /K                     3823      1683      1211       505       601\n",
      "Tb /K                     5100      2628      3103      2543      2013\n",
      "rho /g.cm-3               3.51      2.33      5.32      7.29      11.3\n",
      "IE /eV                   11.26      8.15       7.9      7.34      7.42\n",
      "atomic radius /pm         77.2       117     122.5     140.5       175\n"
     ]
    }
   ],
   "source": [
    "more_element_properties = {\n",
    "'Sn': {'mass /u': 118.7, 'Tm /K': 505, 'Tb /K': 2543,\n",
    "'rho /g.cm-3': 7.29, 'IE /eV': 7.34, 'atomic radius /pm': 140.5},\n",
    "'Pb': {'mass /u': 207.2, 'Tm /K': 601, 'Tb /K': 2013,\n",
    "'rho /g.cm-3': 11.3, 'IE /eV': 7.42, 'atomic radius /pm': 175}\n",
    "}\n",
    "combo = element_properties | more_element_properties\n",
    "#Итератор\n",
    "prop = list(next(iter(combo.values())).keys())\n",
    "print(f\"{'Property':<20}\", end = \"\")\n",
    "for element in combo.keys():\n",
    "    print(f\"{element:>10}\", end = \"\")\n",
    "print()\n",
    "for p in prop:\n",
    "    print(f\"{p:<20}\", end = \"\")\n",
    "    for el in combo:\n",
    "        print(f\"{combo[el][p]:>10}\",end =\"\")\n",
    "    print()"
   ]
  },
  {
   "cell_type": "code",
   "execution_count": 77,
   "id": "255602d2",
   "metadata": {
    "tags": []
   },
   "outputs": [
    {
     "data": {
      "text/plain": [
       "7.34"
      ]
     },
     "execution_count": 77,
     "metadata": {},
     "output_type": "execute_result"
    }
   ],
   "source": [
    "combo['Sn']['IE /eV']"
   ]
  }
 ],
 "metadata": {
  "kernelspec": {
   "display_name": "Python 3 (ipykernel)",
   "language": "python",
   "name": "python3"
  },
  "language_info": {
   "codemirror_mode": {
    "name": "ipython",
    "version": 3
   },
   "file_extension": ".py",
   "mimetype": "text/x-python",
   "name": "python",
   "nbconvert_exporter": "python",
   "pygments_lexer": "ipython3",
   "version": "3.11.8"
  }
 },
 "nbformat": 4,
 "nbformat_minor": 5
}
