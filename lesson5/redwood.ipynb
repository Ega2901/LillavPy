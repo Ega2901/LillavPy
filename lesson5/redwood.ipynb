{
 "cells": [
  {
   "cell_type": "code",
   "execution_count": 22,
   "id": "dffbd430-3259-44b7-a93f-c32456318ba9",
   "metadata": {
    "tags": []
   },
   "outputs": [],
   "source": [
    "with open(\"share/redwood-data.txt\", \"r\") as f:\n",
    "    data = f.read()\n",
    "strs = data.split(\"\\n\")\n",
    "strs.pop(0)\n",
    "strs.pop(0)\n",
    "strs.pop(-1)\n",
    "tree_name = []\n",
    "location = []\n",
    "diametr = []\n",
    "height = []\n",
    "for s in strs:\n",
    "    feat = s.split(\"\\t\")\n",
    "    tree_name.append(feat[0])\n",
    "    location.append(feat[1])\n",
    "    diametr.append(float(feat[2]))\n",
    "    height.append(float(feat[3]))    "
   ]
  },
  {
   "cell_type": "code",
   "execution_count": 23,
   "id": "ca83b3e1-1d5f-456a-bfc7-38613e9a41a8",
   "metadata": {
    "tags": []
   },
   "outputs": [
    {
     "data": {
      "text/plain": [
       "5.18"
      ]
     },
     "execution_count": 23,
     "metadata": {},
     "output_type": "execute_result"
    }
   ],
   "source": [
    "max(diametr)"
   ]
  },
  {
   "cell_type": "code",
   "execution_count": null,
   "id": "08986dda-0284-480d-9151-93551d67648b",
   "metadata": {},
   "outputs": [],
   "source": [
    "class Dataset:\n",
    "    def __init__(self, data):\n",
    "        self.data = data\n",
    "        \n",
    "    def columns():\n",
    "        \n",
    "     "
   ]
  }
 ],
 "metadata": {
  "kernelspec": {
   "display_name": "Python 3 (ipykernel)",
   "language": "python",
   "name": "python3"
  },
  "language_info": {
   "codemirror_mode": {
    "name": "ipython",
    "version": 3
   },
   "file_extension": ".py",
   "mimetype": "text/x-python",
   "name": "python",
   "nbconvert_exporter": "python",
   "pygments_lexer": "ipython3",
   "version": "3.11.8"
  }
 },
 "nbformat": 4,
 "nbformat_minor": 5
}
