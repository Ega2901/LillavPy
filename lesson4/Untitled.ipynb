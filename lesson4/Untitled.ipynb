{
 "cells": [
  {
   "cell_type": "code",
   "execution_count": 3,
   "id": "c7af22d1-5372-48e3-bbfc-0bcc6f6bb5e2",
   "metadata": {
    "tags": []
   },
   "outputs": [],
   "source": [
    "from utils import utils"
   ]
  },
  {
   "cell_type": "code",
   "execution_count": 4,
   "id": "c2d80fa5-ac87-4ee6-ab65-02e081aba2e6",
   "metadata": {
    "tags": []
   },
   "outputs": [
    {
     "data": {
      "text/plain": [
       "5"
      ]
     },
     "execution_count": 4,
     "metadata": {},
     "output_type": "execute_result"
    }
   ],
   "source": [
    "summa(2,3)"
   ]
  },
  {
   "cell_type": "code",
   "execution_count": 1,
   "id": "c12f7a9d-c203-4ec1-98b9-3f09901f9ca2",
   "metadata": {
    "tags": []
   },
   "outputs": [],
   "source": [
    "from package1.my_func import MyClass"
   ]
  },
  {
   "cell_type": "code",
   "execution_count": 2,
   "id": "17c3f42d-27c3-4c00-8850-7f4e3641006e",
   "metadata": {
    "tags": []
   },
   "outputs": [],
   "source": [
    "x = MyClass(5,6)"
   ]
  },
  {
   "cell_type": "code",
   "execution_count": 4,
   "id": "0cdc2e5d-30a9-4790-ba87-06f573a5f0b2",
   "metadata": {
    "tags": []
   },
   "outputs": [
    {
     "name": "stdout",
     "output_type": "stream",
     "text": [
      "a = 5, b = 6\n"
     ]
    }
   ],
   "source": [
    "print(x)"
   ]
  },
  {
   "cell_type": "code",
   "execution_count": 3,
   "id": "0574d21d-4e19-4fdc-afda-60049f4dbaa1",
   "metadata": {
    "tags": []
   },
   "outputs": [
    {
     "data": {
      "text/plain": [
       "11"
      ]
     },
     "execution_count": 3,
     "metadata": {},
     "output_type": "execute_result"
    }
   ],
   "source": [
    "x.summa()"
   ]
  },
  {
   "cell_type": "code",
   "execution_count": 7,
   "id": "a8ec67fb-4f22-428e-bab9-76c229b8bc9a",
   "metadata": {
    "tags": []
   },
   "outputs": [
    {
     "data": {
      "text/plain": [
       "<bound method MyClass.hello of <class 'package1.my_func.MyClass'>>"
      ]
     },
     "execution_count": 7,
     "metadata": {},
     "output_type": "execute_result"
    }
   ],
   "source": [
    "x.hello"
   ]
  },
  {
   "cell_type": "code",
   "execution_count": 7,
   "id": "efeb0bbd-cdd6-44e6-b958-2aa4b25e0f49",
   "metadata": {
    "tags": []
   },
   "outputs": [
    {
     "data": {
      "text/plain": [
       "<package1.my_func.MyClass at 0x1072a7550>"
      ]
     },
     "execution_count": 7,
     "metadata": {},
     "output_type": "execute_result"
    }
   ],
   "source": [
    "x"
   ]
  },
  {
   "cell_type": "code",
   "execution_count": 3,
   "id": "89bd990f-583c-48d1-9478-dcfcb48048c3",
   "metadata": {
    "tags": []
   },
   "outputs": [
    {
     "data": {
      "text/plain": [
       "'Hello!'"
      ]
     },
     "execution_count": 3,
     "metadata": {},
     "output_type": "execute_result"
    }
   ],
   "source": [
    "hello()"
   ]
  },
  {
   "cell_type": "code",
   "execution_count": null,
   "id": "3f2e4154-329c-458f-b784-1dc79f5ee51c",
   "metadata": {},
   "outputs": [],
   "source": []
  }
 ],
 "metadata": {
  "kernelspec": {
   "display_name": "Python 3 (ipykernel)",
   "language": "python",
   "name": "python3"
  },
  "language_info": {
   "codemirror_mode": {
    "name": "ipython",
    "version": 3
   },
   "file_extension": ".py",
   "mimetype": "text/x-python",
   "name": "python",
   "nbconvert_exporter": "python",
   "pygments_lexer": "ipython3",
   "version": "3.11.8"
  }
 },
 "nbformat": 4,
 "nbformat_minor": 5
}
