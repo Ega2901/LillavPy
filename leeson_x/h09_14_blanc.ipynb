{
 "cells": [
  {
   "cell_type": "markdown",
   "metadata": {},
   "source": [
    "# Практикум по символьным вычислениям\n",
    "\n",
    "Результат работы всех заданий должен быть выведен на экран.\n",
    "\n",
    "В большинстве заданий ответ предполагает написание 1-3 строк кода, однако вы можете решить их так, как вам удобнее."
   ]
  },
  {
   "cell_type": "markdown",
   "metadata": {},
   "source": [
    "#### 1. Импортируйте библиотеку необходимую для проведения символьных вычислений в Python. Также настройте ноутбук для печати символьных выражений. (★☆☆)"
   ]
  },
  {
   "cell_type": "code",
   "execution_count": 9,
   "metadata": {
    "tags": []
   },
   "outputs": [],
   "source": [
    "import sympy as sym\n",
    "init_printing()"
   ]
  },
  {
   "cell_type": "markdown",
   "metadata": {},
   "source": [
    "#### 2. Задайте символьные переменные $x$, $y$, $z$ и функции $f$ и $g$ (★☆☆)"
   ]
  },
  {
   "cell_type": "code",
   "execution_count": 14,
   "metadata": {
    "tags": []
   },
   "outputs": [
    {
     "data": {
      "image/png": "[encoded data removed]",
      "text/latex": [
       "$\\displaystyle \\left( x, \\  y, \\  z, \\  f{\\left(x \\right)}, \\  g{\\left(x \\right)}\\right)$"
      ],
      "text/plain": [
       "(x, y, z, f(x), g(x))"
      ]
     },
     "execution_count": 14,
     "metadata": {},
     "output_type": "execute_result"
    }
   ],
   "source": [
    "x, y, z = sym.symbols(\"x, y, z\")\n",
    "f = sym.Function(\"f\")(x)\n",
    "g = sym.symbols(\"g\", cls = Function)(x)\n",
    "x, y, z, f, g\n"
   ]
  },
  {
   "cell_type": "markdown",
   "metadata": {},
   "source": [
    "#### 3. Задайте следующее выражение: $x^2+2x-5$"
   ]
  },
  {
   "cell_type": "code",
   "execution_count": 15,
   "metadata": {
    "tags": []
   },
   "outputs": [
    {
     "data": {
      "image/png": "[encoded data removed]",
      "text/latex": [
       "$\\displaystyle x^{2} + 2 x - 5$"
      ],
      "text/plain": [
       " 2          \n",
       "x  + 2⋅x - 5"
      ]
     },
     "execution_count": 15,
     "metadata": {},
     "output_type": "execute_result"
    }
   ],
   "source": [
    "t = x**2+2*x-5\n",
    "t"
   ]
  },
  {
   "cell_type": "markdown",
   "metadata": {},
   "source": [
    "#### Вычислите значение выражения для $x=1.5$."
   ]
  },
  {
   "cell_type": "code",
   "execution_count": 16,
   "metadata": {
    "tags": []
   },
   "outputs": [
    {
     "data": {
      "image/png": "[encoded data removed]",
      "text/latex": [
       "$\\displaystyle 0.25$"
      ],
      "text/plain": [
       "0.250000000000000"
      ]
     },
     "execution_count": 16,
     "metadata": {},
     "output_type": "execute_result"
    }
   ],
   "source": [
    "t.subs(x, 1.5)"
   ]
  },
  {
   "cell_type": "markdown",
   "metadata": {},
   "source": [
    "#### Замените в этом выражении $x$ на $z$."
   ]
  },
  {
   "cell_type": "code",
   "execution_count": 17,
   "metadata": {
    "tags": []
   },
   "outputs": [
    {
     "data": {
      "image/png": "[encoded data removed]",
      "text/latex": [
       "$\\displaystyle z^{2} + 2 z - 5$"
      ],
      "text/plain": [
       " 2          \n",
       "z  + 2⋅z - 5"
      ]
     },
     "execution_count": 17,
     "metadata": {},
     "output_type": "execute_result"
    }
   ],
   "source": [
    "t.subs(x, z)"
   ]
  },
  {
   "cell_type": "markdown",
   "metadata": {},
   "source": [
    "#### Замените в исходном выражении $x$ на $y^2+\\pi$. (★☆☆)"
   ]
  },
  {
   "cell_type": "code",
   "execution_count": 18,
   "metadata": {
    "tags": []
   },
   "outputs": [
    {
     "data": {
      "image/png": "[encoded data removed]",
      "text/latex": [
       "$\\displaystyle 2 y^{2} + \\left(y^{2} + \\pi\\right)^{2} - 5 + 2 \\pi$"
      ],
      "text/plain": [
       "               2          \n",
       "   2   ⎛ 2    ⎞           \n",
       "2⋅y  + ⎝y  + π⎠  - 5 + 2⋅π"
      ]
     },
     "execution_count": 18,
     "metadata": {},
     "output_type": "execute_result"
    }
   ],
   "source": [
    "t.subs(x, y**2+sym.pi)"
   ]
  },
  {
   "cell_type": "markdown",
   "metadata": {},
   "source": [
    "#### 4. Задайте выражение $\\frac25 e^{x^2-y} \\cosh(x+y) + \\frac37 \\log(xy+1)$. Обратите внимание, что дроби должны быть символьными. (★☆☆)"
   ]
  },
  {
   "cell_type": "code",
   "execution_count": 56,
   "metadata": {
    "tags": []
   },
   "outputs": [
    {
     "data": {
      "image/png": "[encoded data removed]",
      "text/latex": [
       "$\\displaystyle \\frac{2 e^{x^{2} - y}}{5} + \\frac{3 \\log{\\left(x y + 1 \\right)}}{7} + \\cosh{\\left(x + y \\right)}$"
      ],
      "text/plain": [
       "    2                                   \n",
       "   x  - y                               \n",
       "2⋅ℯ         3⋅log(x⋅y + 1)              \n",
       "───────── + ────────────── + cosh(x + y)\n",
       "    5             7                     "
      ]
     },
     "execution_count": 56,
     "metadata": {},
     "output_type": "execute_result"
    }
   ],
   "source": [
    "s = Rational('2/5') * sym.exp(x**2 - y) + sym.cosh(x+y) + Rational('3/7')*sym.log(x*y+1)\n",
    "s"
   ]
  },
  {
   "cell_type": "markdown",
   "metadata": {},
   "source": [
    "#### 5. Упростите выражение: $\\frac{x^2 - x - 6}{x^2 - 3x}$. (★☆☆)"
   ]
  },
  {
   "cell_type": "code",
   "execution_count": 27,
   "metadata": {
    "tags": []
   },
   "outputs": [
    {
     "data": {
      "image/png": "[encoded data removed]",
      "text/latex": [
       "$\\displaystyle \\frac{x + 2}{x}$"
      ],
      "text/plain": [
       "x + 2\n",
       "─────\n",
       "  x  "
      ]
     },
     "execution_count": 27,
     "metadata": {},
     "output_type": "execute_result"
    }
   ],
   "source": [
    "t = sym.simplify((x**2-x-6)/(x**2-3*x))\n",
    "t"
   ]
  },
  {
   "cell_type": "markdown",
   "metadata": {},
   "source": [
    "#### 6. Раскройте скобки в выражении $(x+1)^3(x-2)^2$. (★☆☆)"
   ]
  },
  {
   "cell_type": "code",
   "execution_count": 29,
   "metadata": {
    "tags": []
   },
   "outputs": [
    {
     "data": {
      "image/png": "[encoded data removed]",
      "text/latex": [
       "$\\displaystyle x^{5} - x^{4} - 5 x^{3} + x^{2} + 8 x + 4$"
      ],
      "text/plain": [
       " 5    4      3    2          \n",
       "x  - x  - 5⋅x  + x  + 8⋅x + 4"
      ]
     },
     "execution_count": 29,
     "metadata": {},
     "output_type": "execute_result"
    }
   ],
   "source": [
    "t = sym.expand((x+1)**3*(x-2)**2)\n",
    "t"
   ]
  },
  {
   "cell_type": "markdown",
   "metadata": {},
   "source": [
    "#### 7. Разложите многочлен $3x^4-36x^3+99x^2-6x-144$ на неприводимые множители (★☆☆)"
   ]
  },
  {
   "cell_type": "code",
   "execution_count": 31,
   "metadata": {
    "tags": []
   },
   "outputs": [
    {
     "data": {
      "image/png": "[encoded data removed]",
      "text/latex": [
       "$\\displaystyle 3 \\left(x - 8\\right) \\left(x - 3\\right) \\left(x - 2\\right) \\left(x + 1\\right)$"
      ],
      "text/plain": [
       "3⋅(x - 8)⋅(x - 3)⋅(x - 2)⋅(x + 1)"
      ]
     },
     "execution_count": 31,
     "metadata": {},
     "output_type": "execute_result"
    }
   ],
   "source": [
    "t = sym.factor(3*x**4-36*x**3+99*x**2-6*x-144)\n",
    "t"
   ]
  },
  {
   "cell_type": "markdown",
   "metadata": {},
   "source": [
    "#### 8. Вычислите производную $\\frac{d}{dx}sin^2(x)e^{2x}$"
   ]
  },
  {
   "cell_type": "code",
   "execution_count": 42,
   "metadata": {
    "tags": []
   },
   "outputs": [
    {
     "data": {
      "image/png": "[encoded data removed]",
      "text/latex": [
       "$\\displaystyle 2 e^{2 x} \\sin^{2}{\\left(x \\right)} + 2 e^{2 x} \\sin{\\left(x \\right)} \\cos{\\left(x \\right)}$"
      ],
      "text/plain": [
       "   2⋅x    2         2⋅x              \n",
       "2⋅ℯ   ⋅sin (x) + 2⋅ℯ   ⋅sin(x)⋅cos(x)"
      ]
     },
     "execution_count": 42,
     "metadata": {},
     "output_type": "execute_result"
    }
   ],
   "source": [
    "t = sym.diff((sym.sin(x))**2*sym.exp(2*x), x)\n",
    "t"
   ]
  },
  {
   "cell_type": "markdown",
   "metadata": {},
   "source": [
    "#### Затем вычислите значение производной при $x=3.3$ (★☆☆)"
   ]
  },
  {
   "cell_type": "code",
   "execution_count": 45,
   "metadata": {
    "tags": []
   },
   "outputs": [
    {
     "data": {
      "image/png": "[encoded data removed]",
      "text/latex": [
       "$\\displaystyle 265.596339800896$"
      ],
      "text/plain": [
       "265.596339800896"
      ]
     },
     "execution_count": 45,
     "metadata": {},
     "output_type": "execute_result"
    }
   ],
   "source": [
    "t.subs(x, 3.3)"
   ]
  },
  {
   "cell_type": "markdown",
   "metadata": {},
   "source": [
    "#### 9. Вычислите символьное значение интеграла: $\\int\\limits_0^5 x^2sin(x^2)\\,dx$."
   ]
  },
  {
   "cell_type": "code",
   "execution_count": 48,
   "metadata": {
    "tags": []
   },
   "outputs": [
    {
     "data": {
      "image/png": "[encoded data removed]",
      "text/latex": [
       "$\\displaystyle - \\frac{25 \\cos{\\left(25 \\right)} \\Gamma\\left(\\frac{5}{4}\\right)}{8 \\Gamma\\left(\\frac{9}{4}\\right)} + \\frac{5 \\sqrt{2} \\sqrt{\\pi} C\\left(\\frac{5 \\sqrt{2}}{\\sqrt{\\pi}}\\right) \\Gamma\\left(\\frac{5}{4}\\right)}{16 \\Gamma\\left(\\frac{9}{4}\\right)}$"
      ],
      "text/plain": [
       "                               ⎛5⋅√2⎞       \n",
       "                      5⋅√2⋅√π⋅C⎜────⎟⋅Γ(5/4)\n",
       "  25⋅cos(25)⋅Γ(5/4)            ⎝ √π ⎠       \n",
       "- ───────────────── + ──────────────────────\n",
       "       8⋅Γ(9/4)             16⋅Γ(9/4)       "
      ]
     },
     "execution_count": 48,
     "metadata": {},
     "output_type": "execute_result"
    }
   ],
   "source": [
    "t = sym.integrate(x**2*sin(x**2), (x, 0, 5))\n",
    "t"
   ]
  },
  {
   "cell_type": "markdown",
   "metadata": {},
   "source": [
    "#### Затем вычислите его числовое значение. (★☆☆)"
   ]
  },
  {
   "cell_type": "code",
   "execution_count": 50,
   "metadata": {
    "tags": []
   },
   "outputs": [
    {
     "data": {
      "image/png": "[encoded data removed]",
      "text/latex": [
       "$\\displaystyle -2.17227364646045$"
      ],
      "text/plain": [
       "-2.17227364646045"
      ]
     },
     "execution_count": 50,
     "metadata": {},
     "output_type": "execute_result"
    }
   ],
   "source": [
    "t.evalf()"
   ]
  },
  {
   "cell_type": "markdown",
   "metadata": {},
   "source": [
    "#### 10. Напишите выражение для суммы: $\\frac 1{1 \\cdot 4}+\\frac 1{4 \\cdot 7}+...+\\frac 1{(3n-2)(3n+1)}+...$ ."
   ]
  },
  {
   "cell_type": "code",
   "execution_count": 51,
   "metadata": {
    "tags": []
   },
   "outputs": [
    {
     "data": {
      "image/png": "[encoded data removed]",
      "text/latex": [
       "$\\displaystyle \\frac{1}{\\left(3 n - 2\\right) \\left(3 n + 1\\right)}$"
      ],
      "text/plain": [
       "         1         \n",
       "───────────────────\n",
       "(3⋅n - 2)⋅(3⋅n + 1)"
      ]
     },
     "execution_count": 51,
     "metadata": {},
     "output_type": "execute_result"
    }
   ],
   "source": [
    "n = symbols(\"n\")\n",
    "t = 1/((3*n-2)*(3*n+1))\n",
    "t"
   ]
  },
  {
   "cell_type": "markdown",
   "metadata": {},
   "source": [
    "#### Найдите значение этой суммы с 20 значащими цифрами. (★☆☆)"
   ]
  },
  {
   "cell_type": "code",
   "execution_count": 53,
   "metadata": {
    "tags": []
   },
   "outputs": [
    {
     "data": {
      "image/png": "[encoded data removed]",
      "text/latex": [
       "$\\displaystyle \\frac{20}{61}$"
      ],
      "text/plain": [
       "20\n",
       "──\n",
       "61"
      ]
     },
     "execution_count": 53,
     "metadata": {},
     "output_type": "execute_result"
    }
   ],
   "source": [
    "t = sym.summation(t, (n, 1, 20))\n",
    "t"
   ]
  },
  {
   "cell_type": "markdown",
   "metadata": {},
   "source": [
    "#### 11. Вычислите и упростите следующее выражение: $\\prod\\limits_{i=1}^{5}\\sum\\limits_{j=i}^{5}j(\\sin(x)+\\cos(x))$"
   ]
  },
  {
   "cell_type": "code",
   "execution_count": 60,
   "metadata": {
    "tags": []
   },
   "outputs": [
    {
     "data": {
      "image/png": "[encoded data removed]",
      "text/latex": [
       "$\\displaystyle \\left(15 \\sin{\\left(x \\right)} + 15 \\cos{\\left(x \\right)}\\right)^{5}$"
      ],
      "text/plain": [
       "                       5\n",
       "(15⋅sin(x) + 15⋅cos(x)) "
      ]
     },
     "execution_count": 60,
     "metadata": {},
     "output_type": "execute_result"
    }
   ],
   "source": [
    "j = symbols('j')\n",
    "t = j*(sin(x) + cos(x))\n",
    "sym.product(sym.summation(t, (j, 1, 5)), (j, 1, 5))"
   ]
  },
  {
   "cell_type": "markdown",
   "metadata": {},
   "source": [
    "#### 12. Найдите корни следующего уравнения: $x^3+15x^2=3x-10$ и сохраните их как выражение. Напечатайте выражение для корней этого уравнения (это будет список)."
   ]
  },
  {
   "cell_type": "code",
   "execution_count": 65,
   "metadata": {
    "tags": []
   },
   "outputs": [
    {
     "data": {
      "image/png": "[encoded data removed]",
      "text/latex": [
       "$\\displaystyle \\left[ -5 - \\frac{78}{\\left(- \\frac{1}{2} - \\frac{\\sqrt{3} i}{2}\\right) \\sqrt[3]{\\frac{27 \\sqrt{5321}}{2} + \\frac{7425}{2}}} - \\frac{\\left(- \\frac{1}{2} - \\frac{\\sqrt{3} i}{2}\\right) \\sqrt[3]{\\frac{27 \\sqrt{5321}}{2} + \\frac{7425}{2}}}{3}, \\  -5 - \\frac{\\left(- \\frac{1}{2} + \\frac{\\sqrt{3} i}{2}\\right) \\sqrt[3]{\\frac{27 \\sqrt{5321}}{2} + \\frac{7425}{2}}}{3} - \\frac{78}{\\left(- \\frac{1}{2} + \\frac{\\sqrt{3} i}{2}\\right) \\sqrt[3]{\\frac{27 \\sqrt{5321}}{2} + \\frac{7425}{2}}}, \\  - \\frac{\\sqrt[3]{\\frac{27 \\sqrt{5321}}{2} + \\frac{7425}{2}}}{3} - 5 - \\frac{78}{\\sqrt[3]{\\frac{27 \\sqrt{5321}}{2} + \\frac{7425}{2}}}\\right]$"
      ],
      "text/plain": [
       "⎡                                                           _________________                        _________________                                        \n",
       "⎢                                          ⎛  1   √3⋅ⅈ⎞    ╱ 27⋅√5321   7425        ⎛  1   √3⋅ⅈ⎞    ╱ 27⋅√5321   7425                                         \n",
       "⎢                                          ⎜- ─ - ────⎟⋅3 ╱  ──────── + ────        ⎜- ─ + ────⎟⋅3 ╱  ──────── + ────                                         \n",
       "⎢                     78                   ⎝  2    2  ⎠ ╲╱      2        2          ⎝  2    2  ⎠ ╲╱      2        2                      78                   \n",
       "⎢-5 - ────────────────────────────────── - ──────────────────────────────────, -5 - ────────────────────────────────── - ──────────────────────────────────, -\n",
       "⎢                      _________________                   3                                        3                                     _________________   \n",
       "⎢     ⎛  1   √3⋅ⅈ⎞    ╱ 27⋅√5321   7425                                                                                  ⎛  1   √3⋅ⅈ⎞    ╱ 27⋅√5321   7425    \n",
       "⎢     ⎜- ─ - ────⎟⋅3 ╱  ──────── + ────                                                                                  ⎜- ─ + ────⎟⋅3 ╱  ──────── + ────    \n",
       "⎣     ⎝  2    2  ⎠ ╲╱      2        2                                                                                    ⎝  2    2  ⎠ ╲╱      2        2      \n",
       "\n",
       "     _________________                            ⎤\n",
       "    ╱ 27⋅√5321   7425                             ⎥\n",
       " 3 ╱  ──────── + ────                             ⎥\n",
       " ╲╱      2        2                    78         ⎥\n",
       " ───────────────────── - 5 - ─────────────────────⎥\n",
       "           3                     _________________⎥\n",
       "                                ╱ 27⋅√5321   7425 ⎥\n",
       "                             3 ╱  ──────── + ──── ⎥\n",
       "                             ╲╱      2        2   ⎦"
      ]
     },
     "execution_count": 65,
     "metadata": {},
     "output_type": "execute_result"
    }
   ],
   "source": [
    "t = x**3 + 15*x**2 - 3*x + 10\n",
    "roots = sym.solve(t, x)\n",
    "roots"
   ]
  },
  {
   "cell_type": "markdown",
   "metadata": {},
   "source": [
    "####  Затем найдите численные значения каждого корня. (★☆☆)"
   ]
  },
  {
   "cell_type": "code",
   "execution_count": 70,
   "metadata": {
    "tags": []
   },
   "outputs": [
    {
     "name": "stdout",
     "output_type": "stream",
     "text": [
      "0.119953874110975 + 0.801113611837881*I\n",
      "0.119953874110975 - 0.801113611837881*I\n",
      "-15.2399077482219\n"
     ]
    }
   ],
   "source": [
    "for i in roots:\n",
    "    print(i.evalf())"
   ]
  },
  {
   "cell_type": "markdown",
   "metadata": {},
   "source": [
    "#### 13*. Рассмотрим полином $p(x)=2x^6-51x^4+48x^3+312x^2-576x-100$. Найдите и выведите отдельно ($x$ и $p(x)$):<br>- локальные минимумы,<br>- [глобальный минимум](https://wiki.loginom.ru/articles/global-minimum.html),<br>- локальные максимумы,<br>- глобальный максимум. "
   ]
  },
  {
   "cell_type": "code",
   "execution_count": 88,
   "metadata": {
    "tags": []
   },
   "outputs": [
    {
     "name": "stdout",
     "output_type": "stream",
     "text": [
      "локальные минимумы: -4\n",
      "локальные максимумы: 3\n"
     ]
    },
    {
     "data": {
      "image/png": "[encoded data removed]",
      "text/latex": [
       "$\\displaystyle \\left[ -3.27037249730577 + 1.03687669229144 \\cdot 10^{-30} i, \\  1.47676476567116 + 7.07846468426679 \\cdot 10^{-30} i, \\  2.61658803952174 - 3.99498395728817 \\cdot 10^{-30} i, \\  -0.822980307887127 - 4.12035741927006 \\cdot 10^{-30} i\\right]$"
      ],
      "text/plain": [
       "[-3.27037249730577 + 1.03687669229144e-30⋅ⅈ, 1.47676476567116 + 7.07846468426679e-30⋅ⅈ, 2.61658803952174 - 3.99498395728817e-30⋅ⅈ, -0.822980307887127 - 4.1203\n",
       "5741927006e-30⋅ⅈ]"
      ]
     },
     "execution_count": 88,
     "metadata": {},
     "output_type": "execute_result"
    }
   ],
   "source": [
    "p = Function(\"p\")(x)\n",
    "p = 2*x**6 - 51*x**4 + 48*x**3 +312*x**2 - 576*x - 100\n",
    "t = sym.diff(p, x)\n",
    "roots1 = solve(t,x)\n",
    "t2 = sym.diff(t, x)\n",
    "roots2 = solve(t2, x)\n",
    "roots3 = []\n",
    "for i in roots2:\n",
    "    roots3.append(i.evalf())\n",
    "print(f\"локальные минимумы: {min(roots1)}\")\n",
    "print(f\"локальные максимумы: {max(roots1)}\")\n",
    "#print(f\"глобальный минимумы: {min(roots3)}\")\n",
    "#print(f\"глобальный максимумы: {max(roots3)}\")\n",
    "roots3"
   ]
  },
  {
   "cell_type": "code",
   "execution_count": 80,
   "metadata": {
    "tags": []
   },
   "outputs": [
    {
     "data": {
      "image/png": "[encoded data removed]",
      "text/latex": [
       "$\\displaystyle \\left[ -4, \\  -2, \\  1, \\  2, \\  3\\right]$"
      ],
      "text/plain": [
       "[-4, -2, 1, 2, 3]"
      ]
     },
     "execution_count": 80,
     "metadata": {},
     "output_type": "execute_result"
    }
   ],
   "source": [
    "roots1"
   ]
  },
  {
   "cell_type": "markdown",
   "metadata": {},
   "source": [
    "#### 14. Решите систему из трёх уравнений и трёх неизвестных ($x$, $y$, $z$) в символьном виде: $\\begin{cases} x+y+z = 0 \\\\ 2x-y-z=10 \\\\ y+2z=5n-1 \\end{cases}$ . (★☆☆)"
   ]
  },
  {
   "cell_type": "code",
   "execution_count": 92,
   "metadata": {
    "tags": []
   },
   "outputs": [
    {
     "data": {
      "image/png": "[encoded data removed]",
      "text/latex": [
       "$\\displaystyle \\left[ \\left\\{ x : \\frac{10}{3}, \\  y : - \\frac{67}{3}, \\  z : 19\\right\\}\\right]$"
      ],
      "text/plain": [
       "[{x: 10/3, y: -67/3, z: 19}]"
      ]
     },
     "execution_count": 92,
     "metadata": {},
     "output_type": "execute_result"
    }
   ],
   "source": [
    "solve([𝑥+𝑦+𝑧,\n",
    "       2*𝑥-𝑦-𝑧-10,\n",
    "       𝑦+2*z-5*x+1],\n",
    "      [x, y, z], \n",
    "      dict=True)\n",
    "\n",
    "\n"
   ]
  },
  {
   "cell_type": "markdown",
   "metadata": {},
   "source": [
    "#### 15. Решите следующее обыкновенное дифференциальное уравнение: $\\frac{df(x)}{dx}=x cos(x)$.  (★☆☆)"
   ]
  },
  {
   "cell_type": "code",
   "execution_count": 96,
   "metadata": {
    "tags": []
   },
   "outputs": [
    {
     "data": {
      "image/png": "[encoded data removed]",
      "text/latex": [
       "$\\displaystyle \\frac{d}{d x} f{\\left(x \\right)} = x \\cos{\\left(x \\right)}$"
      ],
      "text/plain": [
       "d                  \n",
       "──(f(x)) = x⋅cos(x)\n",
       "dx                 "
      ]
     },
     "execution_count": 96,
     "metadata": {},
     "output_type": "execute_result"
    }
   ],
   "source": [
    "t = sym.Eq(sym.Derivative(f, x),x*cos(x))\n",
    "t"
   ]
  },
  {
   "cell_type": "code",
   "execution_count": 97,
   "metadata": {
    "tags": []
   },
   "outputs": [
    {
     "data": {
      "image/png": "[encoded data removed]",
      "text/latex": [
       "$\\displaystyle f{\\left(x \\right)} = C_{1} + x \\sin{\\left(x \\right)} + \\cos{\\left(x \\right)}$"
      ],
      "text/plain": [
       "f(x) = C₁ + x⋅sin(x) + cos(x)"
      ]
     },
     "execution_count": 97,
     "metadata": {},
     "output_type": "execute_result"
    }
   ],
   "source": [
    "sym.dsolve(t, f)"
   ]
  },
  {
   "cell_type": "markdown",
   "metadata": {},
   "source": [
    "#### 16. Задайте матрицы: $ A = \\begin{bmatrix} 1 & 2 & 5 \\\\ 3 & 4 & 6 \\\\ -1 & 0 & 3 \\end{bmatrix}, b = \\begin{bmatrix} 1 \\\\ 0 \\\\ -2n \\end{bmatrix}$"
   ]
  },
  {
   "cell_type": "code",
   "execution_count": 99,
   "metadata": {
    "tags": []
   },
   "outputs": [
    {
     "data": {
      "image/png": "[encoded data removed]",
      "text/latex": [
       "$\\displaystyle \\left( \\left[\\begin{matrix}1 & 2 & 5\\\\3 & 4 & 6\\\\-1 & 0 & 3\\end{matrix}\\right], \\  \\left[\\begin{matrix}1\\\\0\\\\- 2 n\\end{matrix}\\right]\\right)$"
      ],
      "text/plain": [
       "⎛⎡1   2  5⎤  ⎡ 1  ⎤⎞\n",
       "⎜⎢        ⎥  ⎢    ⎥⎟\n",
       "⎜⎢3   4  6⎥, ⎢ 0  ⎥⎟\n",
       "⎜⎢        ⎥  ⎢    ⎥⎟\n",
       "⎝⎣-1  0  3⎦  ⎣-2⋅n⎦⎠"
      ]
     },
     "execution_count": 99,
     "metadata": {},
     "output_type": "execute_result"
    }
   ],
   "source": [
    "A = sym.Matrix([[1,2,5],\n",
    "               [3,4,6],\n",
    "               [-1,0,3]])\n",
    "b = sym.Matrix([1, 0 , -2*n])\n",
    "A, b\n",
    "\n"
   ]
  },
  {
   "cell_type": "markdown",
   "metadata": {},
   "source": [
    "#### Решите систему линейных уравнений $Ax=b$.  (★☆☆)"
   ]
  },
  {
   "cell_type": "code",
   "execution_count": 102,
   "metadata": {
    "tags": []
   },
   "outputs": [],
   "source": [
    "t = A.solve(b)"
   ]
  },
  {
   "cell_type": "code",
   "execution_count": 104,
   "metadata": {
    "tags": []
   },
   "outputs": [
    {
     "data": {
      "image/png": "[encoded data removed]",
      "text/latex": [
       "$\\displaystyle \\left[\\begin{matrix}8 n + 6\\\\- 9 n - \\frac{15}{2}\\\\2 n + 2\\end{matrix}\\right]$"
      ],
      "text/plain": [
       "⎡  8⋅n + 6  ⎤\n",
       "⎢           ⎥\n",
       "⎢-9⋅n - 15/2⎥\n",
       "⎢           ⎥\n",
       "⎣  2⋅n + 2  ⎦"
      ]
     },
     "execution_count": 104,
     "metadata": {},
     "output_type": "execute_result"
    }
   ],
   "source": [
    "t"
   ]
  },
  {
   "cell_type": "code",
   "execution_count": 103,
   "metadata": {
    "tags": []
   },
   "outputs": [
    {
     "data": {
      "image/png": "[encoded data removed]",
      "text/latex": [
       "$\\displaystyle \\left[\\begin{matrix}8.0 n + 6.0\\\\- 9.0 n - 7.5\\\\2.0 n + 2.0\\end{matrix}\\right]$"
      ],
      "text/plain": [
       "⎡8.0⋅n + 6.0 ⎤\n",
       "⎢            ⎥\n",
       "⎢-9.0⋅n - 7.5⎥\n",
       "⎢            ⎥\n",
       "⎣2.0⋅n + 2.0 ⎦"
      ]
     },
     "execution_count": 103,
     "metadata": {},
     "output_type": "execute_result"
    }
   ],
   "source": [
    "t.evalf()"
   ]
  }
 ],
 "metadata": {
  "kernelspec": {
   "display_name": "Python 3 (ipykernel)",
   "language": "python",
   "name": "python3"
  },
  "language_info": {
   "codemirror_mode": {
    "name": "ipython",
    "version": 3
   },
   "file_extension": ".py",
   "mimetype": "text/x-python",
   "name": "python",
   "nbconvert_exporter": "python",
   "pygments_lexer": "ipython3",
   "version": "3.11.8"
  }
 },
 "nbformat": 4,
 "nbformat_minor": 4
}
