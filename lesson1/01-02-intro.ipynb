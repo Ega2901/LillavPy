{
 "cells": [
  {
   "cell_type": "markdown",
   "metadata": {
    "slideshow": {
     "slide_type": "slide"
    }
   },
   "source": [
    "# `Практикум по программированию на языке Python`\n",
    "<br>\n",
    "\n",
    "## `Занятие 1-2: введение в Python`\n",
    "<br><br>\n",
    "\n",
    "### `Егор Тужаров (mr.tuzharov@gmail.com)`\n",
    "\n",
    "#### `Москва, 2024`"
   ]
  },
  {
   "cell_type": "markdown",
   "metadata": {
    "slideshow": {
     "slide_type": "slide"
    }
   },
   "source": [
    "### `Зачем изучать Python?`\n",
    "\n",
    "Несколько смежных вопросов:\n",
    "\n",
    "- зачем DS уметь программировать?<br><br>\n",
    "- зачем DS уметь программировать хорошо?<br><br>\n",
    "- зачем учиться программировать хорошо на Python?"
   ]
  },
  {
   "cell_type": "markdown",
   "metadata": {
    "slideshow": {
     "slide_type": "slide"
    }
   },
   "source": [
    "### `Python - хороший язык, потому что он`\n",
    "\n",
    "- _читабельный и согласованный_ - его легко понимать и сопровождать<br><br>\n",
    "- _высокоуровневый_ - код лаконичнее, чем у большинства других языков<br><br>\n",
    "- _универсальный_ - вести успешную разработку на Python можно почти в любой IT-области<br><br>\n",
    "- _мультипарадигмальный_ - процедурный, объектно-ориентированный, функциональный<br><br>\n",
    "- _кроссплатформенный_ - легко разрабатывать и запускать код под любой популярной ОС<br><br>\n",
    "- _легко интегрируемый_ - активно используется в связке с другими языками<br><br>\n",
    "- _прост в изучении_ - сложно найти язык с более низким порогом входа<br><br>\n",
    "- _богатый и активно развивающийся_ - open-source + большое сообщество способны на многое<br><br>"
   ]
  },
  {
   "cell_type": "markdown",
   "metadata": {
    "slideshow": {
     "slide_type": "slide"
    }
   },
   "source": [
    "### `Где писать код на Python`\n",
    "\n",
    "- в любом удобном текстовом редакторе<br><br>\n",
    "- в Jupyter Notebook<br><br>\n",
    "- в специализированной IDE (например, PyCharm)<br><br>\n",
    "\n",
    "Обычно файлы с кодом на Python имеют расширение `.py`"
   ]
  },
  {
   "cell_type": "markdown",
   "metadata": {
    "slideshow": {
     "slide_type": "slide"
    }
   },
   "source": [
    "### `Где исполнять код на Python`\n",
    "\n",
    "- Python - скриптовый язык, исполняемый интерпретатором<br><br>\n",
    "- Стандартная версия интепретатора - CPython, будем пользоваться ей<br><br>\n",
    "- Можно воспользоваться https://docs.conda.io/en/latest/miniconda.html\n",
    "- Можно установить интерпретатор + стандартные библиотеки языка (https://www.python.org)<br><br>\n",
    "- Подробнее о способах установки Python в различных окружениях поговорим позже<br><br>\n",
    "\n",
    "\n",
    "__При установке обратите внимание, что в курсе мы ориентируемся на Python версии 3.7__"
   ]
  },
  {
   "cell_type": "markdown",
   "metadata": {
    "slideshow": {
     "slide_type": "slide"
    }
   },
   "source": [
    "### `Как можно запускать код на Python`\n",
    "\n",
    "- Запускаем интерпретатор в терминале и напрямую пишем команды<br><br>\n",
    "- Пишем код в файле и запускаем командой `python <имя файла>`<br><br>\n",
    "- Создаём файл Jupyter Notebook и запускаем код в его ячейках<br><br>"
   ]
  },
  {
   "cell_type": "markdown",
   "metadata": {
    "slideshow": {
     "slide_type": "slide"
    }
   },
   "source": [
    "### `Объекты и переменные в Python`\n",
    "\n",
    "- Переменные $\\ne$ объекты<br><br>\n",
    "- Объект - это сущность, созданная и используемая в коде<br><br>\n",
    "- Объектами являются числа, строки, контейнеры, классы, функции и т.п.<br><br>\n",
    "- Переменная - это именованная ссылка на объект<br><br>\n",
    "- У одного объекта может быть много ссылок-переменных<br><br>\n",
    "- Объекты являются строго типизированными, ссылки - нет"
   ]
  },
  {
   "cell_type": "markdown",
   "metadata": {
    "slideshow": {
     "slide_type": "slide"
    }
   },
   "source": [
    "### `Основные встроенные типы данных`\n",
    "\n",
    "- _логический, числовые, None_<br><br>\n",
    "- _строковые_<br><br>\n",
    "- _контейнерные: списки, словари, кортежи, множества_<br><br>\n",
    "- _файловый_<br><br>\n",
    "- _прочие: функции, классы, модули, сами типы_<br><br>\n",
    "\n",
    "Python -\n",
    "- динамически типизируемый (сам следит за выводом типов)<br><br>\n",
    "- язык со строгой типизацией (объект заданного типа допускает только связанные с ним операции)<br><br>\n",
    "\n",
    "__Тип объекта можно получить с помощью функции type__"
   ]
  },
  {
   "cell_type": "markdown",
   "metadata": {
    "slideshow": {
     "slide_type": "slide"
    }
   },
   "source": [
    "### `Снова про объекты и переменные`"
   ]
  },
  {
   "cell_type": "code",
   "execution_count": 227,
   "metadata": {},
   "outputs": [
    {
     "name": "stdout",
     "output_type": "stream",
     "text": [
      "[2, 1]\n"
     ]
    }
   ],
   "source": [
    "a = [2]\n",
    "b = a\n",
    "a += [1]\n",
    "print(b)"
   ]
  },
  {
   "cell_type": "markdown",
   "metadata": {},
   "source": [
    "- список - изменяемый объект, создание новой ссылки не приводит к появлению нового объекта\n",
    "- есть две переменные, указывающие на один и тот же список"
   ]
  },
  {
   "cell_type": "code",
   "execution_count": 228,
   "metadata": {},
   "outputs": [
    {
     "name": "stdout",
     "output_type": "stream",
     "text": [
      "[2, 1]\n"
     ]
    }
   ],
   "source": [
    "del a\n",
    "print(b)"
   ]
  },
  {
   "cell_type": "markdown",
   "metadata": {},
   "source": [
    "- удаление `a` не приводит у удалению списка, поскольку на него ещё ссылается `b`"
   ]
  },
  {
   "cell_type": "markdown",
   "metadata": {
    "slideshow": {
     "slide_type": "slide"
    }
   },
   "source": [
    "### `Копирование изменяемых объектов`"
   ]
  },
  {
   "cell_type": "code",
   "execution_count": 26,
   "metadata": {},
   "outputs": [
    {
     "name": "stdout",
     "output_type": "stream",
     "text": [
      "[1, 2, 3]\n"
     ]
    }
   ],
   "source": [
    "a = [1, 2, 3]\n",
    "b = a[:]\n",
    "b.append(4)\n",
    "print(a)"
   ]
  },
  {
   "cell_type": "code",
   "execution_count": 27,
   "metadata": {},
   "outputs": [
    {
     "name": "stdout",
     "output_type": "stream",
     "text": [
      "[1, 2, 3]\n"
     ]
    }
   ],
   "source": [
    "a = [1, 2, 3]\n",
    "b = a.copy()\n",
    "b.append(4)\n",
    "print(a)"
   ]
  },
  {
   "cell_type": "markdown",
   "metadata": {
    "slideshow": {
     "slide_type": "slide"
    }
   },
   "source": [
    "### `Копирование вложенных изменяемых объектов`"
   ]
  },
  {
   "cell_type": "code",
   "execution_count": 32,
   "metadata": {},
   "outputs": [
    {
     "name": "stdout",
     "output_type": "stream",
     "text": [
      "[['a', 'b', 'c', 'd'], 2, 3]\n",
      "[['a', 'b', 'c', 'd'], 2, 3]\n"
     ]
    }
   ],
   "source": [
    "a = [['a', 'b', 'c'], 2, 3]\n",
    "b = a.copy()\n",
    "b[0].append('d')\n",
    "print(a)\n",
    "print(b)"
   ]
  },
  {
   "cell_type": "code",
   "execution_count": 31,
   "metadata": {},
   "outputs": [
    {
     "name": "stdout",
     "output_type": "stream",
     "text": [
      "[['a', 'b', 'c'], 2, 3]\n",
      "[['a', 'b', 'c', 'd'], 2, 3]\n"
     ]
    }
   ],
   "source": [
    "import copy\n",
    "\n",
    "a = [['a', 'b', 'c'], 2, 3]\n",
    "b = copy.deepcopy(a)\n",
    "b[0].append('d')\n",
    "print(a)\n",
    "print(b)"
   ]
  },
  {
   "cell_type": "markdown",
   "metadata": {
    "slideshow": {
     "slide_type": "slide"
    }
   },
   "source": [
    "### `Как правильно называть переменные`\n",
    "\n",
    "- `regular_variable`<br><br>\n",
    "- `ClassName`<br><br>\n",
    "- `SOME_CONSTANT_10`<br><br>\n",
    "- `_private_class_field_or_method`<br><br>\n",
    "- `__avoid_overriding_of_this_field_or_method_in_childrens`<br><br>\n",
    "- `__magic_method__` or `__special_field__`\n",
    "\n",
    "__Не используйте переменные с unicode-символами__:\n",
    "- `плохое_имя_для_переменной`"
   ]
  },
  {
   "cell_type": "markdown",
   "metadata": {
    "slideshow": {
     "slide_type": "slide"
    }
   },
   "source": [
    "### `Компиляция кода на Python`\n",
    "\n",
    "- Код на языке Python перед выполнением транслируется в байт-код<br><br>\n",
    "- Это байт-код выполняется виртуальной машиной языка, в ходе чего он переводится в машинные команды<br><br>\n",
    "- Генерация байт-кода при выполнении кода скрипта выполняется на лету<br><br>\n",
    "- Однако в случае импортирования кода из модуля байт-код этого модуля сохраняется в файлы с расширением `.pyc`<br><br>\n",
    "- В дальнейшем это позволяет ускорить загрузку модуля (но не скорость выполнения!)<br><br>\n",
    "- Необходимость перегенерации файла `.pyc` определяется по времени последнего изменения этого файла и его исходника<br><br>\n",
    "- Хорошей практикой является игнорирование этих файлов и автоматическая перегенерация при каждом запуске в новом окружении<br><br>\n",
    "- Помимо файлов `.pyc` генерироваться могут файлы `.pyo` (запуск с оптимизацией) и `.pyd` (файл типа dll в ОС Windows)"
   ]
  },
  {
   "cell_type": "markdown",
   "metadata": {
    "slideshow": {
     "slide_type": "slide"
    }
   },
   "source": [
    "### `Идентификатор объекта`\n",
    "\n",
    "- у каждого объекта в Python есть целочисленный идентификатор\n",
    "- на время жизни объекта он является уникальным\n",
    "- получить идентификатор объекта можно с помощью функции `id`"
   ]
  },
  {
   "cell_type": "code",
   "execution_count": 31,
   "metadata": {},
   "outputs": [
    {
     "name": "stdout",
     "output_type": "stream",
     "text": [
      "93923529852224 93923529852288\n"
     ]
    }
   ],
   "source": [
    "a = 10\n",
    "b = 12\n",
    "print(id(a), id(b))"
   ]
  },
  {
   "cell_type": "markdown",
   "metadata": {},
   "source": [
    "- идентификатор зависит от реализации, это может быть адрес в памяти\n",
    "- у одинаковых константных объектов этот идентификатор всегда одинаковый"
   ]
  },
  {
   "cell_type": "code",
   "execution_count": 32,
   "metadata": {},
   "outputs": [
    {
     "name": "stdout",
     "output_type": "stream",
     "text": [
      "93923529852224 93923529852224 \n",
      "\n",
      "93923529852288 93923529852288\n"
     ]
    }
   ],
   "source": [
    "a, b = 10, 10\n",
    "c, d = 12, 12\n",
    "print(id(a), id(b), '\\n')\n",
    "print(id(c), id(d))"
   ]
  },
  {
   "cell_type": "markdown",
   "metadata": {},
   "source": [
    "- и все между собой, очевидно, равны:"
   ]
  },
  {
   "cell_type": "code",
   "execution_count": 40,
   "metadata": {},
   "outputs": [
    {
     "data": {
      "text/plain": [
       "True"
      ]
     },
     "execution_count": 40,
     "metadata": {},
     "output_type": "execute_result"
    }
   ],
   "source": [
    "a == b == c"
   ]
  },
  {
   "cell_type": "markdown",
   "metadata": {
    "slideshow": {
     "slide_type": "slide"
    }
   },
   "source": [
    "### `Почему на None надо проверять с помощью is`"
   ]
  },
  {
   "cell_type": "code",
   "execution_count": 41,
   "metadata": {},
   "outputs": [
    {
     "name": "stdout",
     "output_type": "stream",
     "text": [
      "True\n",
      "False\n"
     ]
    }
   ],
   "source": [
    "# https://stackoverflow.com/questions/3257919/what-is-the-difference-between-is-none-and-none\n",
    "\n",
    "class Foo:\n",
    "    def __eq__(self,other):  # magic method: == operator\n",
    "        return True\n",
    "\n",
    "foo=Foo()\n",
    "\n",
    "print(foo == None)\n",
    "\n",
    "print(foo is None)"
   ]
  },
  {
   "cell_type": "markdown",
   "metadata": {},
   "source": [
    "- кроме того, проверка на идентичность в общем случае быстрее, чем на эквивалентность"
   ]
  },
  {
   "cell_type": "markdown",
   "metadata": {
    "slideshow": {
     "slide_type": "slide"
    }
   },
   "source": [
    "### `Стадии жизни объекта`\n",
    "\n",
    "- Создание объекта приводит к выделению фрагмента памяти<br><br>\n",
    "- У каждого объекта есть счётчик ссылок<br><br>\n",
    "- Каждое новая ссылающаяся переменная увеличивает этот счётчик на единицу<br><br>\n",
    "- Ссылку можно удалить с помощью оператора `del`<br><br>\n",
    "- Когда счётчик ссылок на объект становится равным 0, объект удаляется<br><br>\n",
    "- Удаление и создание объектов может не приводит к изменениям памяти в некоторых случаях из-за кэширования (например 0 или None)<br><br>\n",
    "- Но в общем случае память выделяется и освобождается"
   ]
  },
  {
   "cell_type": "markdown",
   "metadata": {
    "slideshow": {
     "slide_type": "slide"
    }
   },
   "source": [
    "### `Сборщик мусора`\n",
    "\n",
    "- Освобождение памяти производит сборщик мусора (Garbage Collector)\n",
    "- Памяти освобождается не моментально, а в некоторый недетерминированный момент\n",
    "- Одной из сложностей поиска объектов для удаления являются т.н. циклические ссылки"
   ]
  },
  {
   "cell_type": "code",
   "execution_count": 3,
   "metadata": {},
   "outputs": [],
   "source": [
    "a = [None]\n",
    "a[0] = a\n",
    "del a"
   ]
  },
  {
   "cell_type": "markdown",
   "metadata": {},
   "source": [
    "- Сборщик мусора умеет работать с такими случаями"
   ]
  },
  {
   "cell_type": "markdown",
   "metadata": {
    "slideshow": {
     "slide_type": "slide"
    }
   },
   "source": [
    "### `Полезные функции`"
   ]
  },
  {
   "cell_type": "code",
   "execution_count": 5,
   "metadata": {},
   "outputs": [],
   "source": [
    "import gc\n",
    "gc.collect()  # call collection immediately"
   ]
  },
  {
   "cell_type": "code",
   "execution_count": 23,
   "metadata": {},
   "outputs": [
    {
     "name": "stdout",
     "output_type": "stream",
     "text": [
      "2331\n",
      "3\n"
     ]
    }
   ],
   "source": [
    "import sys\n",
    "a = 1\n",
    "print(sys.getrefcount(a))  # cached popular value\n",
    "print(sys.getrefcount('some str'))  # 1 after creation, 1 temporary, 1 - ???"
   ]
  },
  {
   "cell_type": "markdown",
   "metadata": {
    "slideshow": {
     "slide_type": "slide"
    }
   },
   "source": [
    "### `Слабые ссылки`"
   ]
  },
  {
   "cell_type": "markdown",
   "metadata": {},
   "source": [
    "- Иногда возникает необходимость вести учёт объектов только когда они используются где-нибудь ещё<br><br>\n",
    "- Но само слежение уже создаёт ссылку, из-за которой объект будет оставаться в памяти<br><br>\n",
    "- Слабые ссылки дают возможность вести учёт объекта без создания ссылок на них<br><br>\n",
    "- Для этого используется модуль weakref<br><br>\n",
    "- Классическое приложение - кэширование объектов, пересоздание которых является затратным<br><br>\n",
    "- Слабые ссылки нельзя создавать на объекты базовых типов"
   ]
  },
  {
   "cell_type": "markdown",
   "metadata": {
    "slideshow": {
     "slide_type": "slide"
    }
   },
   "source": [
    "### `Слабые ссылки`"
   ]
  },
  {
   "cell_type": "code",
   "execution_count": 60,
   "metadata": {},
   "outputs": [
    {
     "data": {
      "text/plain": [
       "10"
      ]
     },
     "execution_count": 60,
     "metadata": {},
     "output_type": "execute_result"
    }
   ],
   "source": [
    "# http://old.pynsk.ru/posts/2015/Sep/19/tainstvo-standartnoi-biblioteki-slabye-ssylki-weakref/#.XkhkS9kueV4\n",
    "\n",
    "import weakref, gc\n",
    "\n",
    "class A:\n",
    "    def __init__(self, value):\n",
    "        self.value = value\n",
    "    def __repr__(self):  # magic method: information for print\n",
    "        return str(self.value)\n",
    "\n",
    "a = A(10)  # create object and strong reference\n",
    "d = weakref.WeakValueDictionary()  # dict with weak references\n",
    "\n",
    "d['k'] = a\n",
    "d['k']"
   ]
  },
  {
   "cell_type": "code",
   "execution_count": 62,
   "metadata": {},
   "outputs": [
    {
     "data": {
      "text/plain": [
       "10"
      ]
     },
     "execution_count": 62,
     "metadata": {},
     "output_type": "execute_result"
    }
   ],
   "source": [
    "del a\n",
    "gc.collect()\n",
    "d['k']"
   ]
  },
  {
   "cell_type": "markdown",
   "metadata": {},
   "source": [
    "- при запуске из терминала получается вывод \"KeyError: 'k'\"\n",
    "- видимо, в ноутбуке создаются дополнительные неявные ссылки"
   ]
  },
  {
   "cell_type": "markdown",
   "metadata": {
    "slideshow": {
     "slide_type": "slide"
    }
   },
   "source": [
    "### `Проверка стиля кода`\n",
    "\n",
    "- Стандартным набором правил codestyle для Python является PEP8\n",
    "- Есть несколько инструментов для проверки кода на соответствию стиля: `pep8`, `pyflakes`, `flake8`, `Pylint`\n",
    "- В рамках курса в качестве линтера используется `flake8`\n",
    "- Установка модуля стандартная через `pip`, используется он как утилита с управляющими флагами:"
   ]
  },
  {
   "cell_type": "code",
   "execution_count": 61,
   "metadata": {},
   "outputs": [],
   "source": [
    "import os, shutil\n",
    "os.mkdir('tmp')\n",
    "with open('temp.py', 'w') as fout:\n",
    "    fout.write('\\n'.join([\n",
    "        'print(1111111111111111111111111111111111111111111111111111111111111111111)',\n",
    "        'print(1111111111111111111111111111111111111111111111111111111111111111111)  # noqa: E501\\n',\n",
    "    ]))\n",
    "\n",
    "with open(os.path.join('tmp', 'temp.py'), 'w') as fout:\n",
    "    fout.write('''print(1111111111111111111111111111111111111111111111111111111111111111111)''')"
   ]
  },
  {
   "cell_type": "code",
   "execution_count": 62,
   "metadata": {},
   "outputs": [
    {
     "name": "stdout",
     "output_type": "stream",
     "text": [
      "./temp.py:1:21: E501 line too long (74 > 20 characters)\r\n",
      "print(1111111111111111111111111111111111111111111111111111111111111111111)\r\n",
      "                    ^\r\n",
      "1     E501 line too long (74 > 20 characters)\r\n",
      "1\r\n"
     ]
    }
   ],
   "source": [
    "!flake8 . --extend-exclude=tmp --show-source --statistics --count --max-line-length=20\n",
    "shutil.rmtree('tmp')"
   ]
  },
  {
   "cell_type": "markdown",
   "metadata": {
    "slideshow": {
     "slide_type": "slide"
    }
   },
   "source": [
    "## `Спасибо за внимание!`"
   ]
  }
 ],
 "metadata": {
  "celltoolbar": "Slideshow",
  "kernelspec": {
   "display_name": "Python 3",
   "language": "python",
   "name": "python3"
  },
  "language_info": {
   "codemirror_mode": {
    "name": "ipython",
    "version": 3
   },
   "file_extension": ".py",
   "mimetype": "text/x-python",
   "name": "python",
   "nbconvert_exporter": "python",
   "pygments_lexer": "ipython3",
   "version": "3.8.8"
  }
 },
 "nbformat": 4,
 "nbformat_minor": 2
}
