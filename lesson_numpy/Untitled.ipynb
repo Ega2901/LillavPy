{
 "cells": [
  {
   "cell_type": "code",
   "execution_count": 1,
   "id": "375983c1-a998-451f-be19-f5dbe0e2abb0",
   "metadata": {},
   "outputs": [
    {
     "name": "stdout",
     "output_type": "stream",
     "text": [
      "this el 1\n",
      "this el 2\n",
      "this el 3\n",
      "this el 4\n",
      "this el 5\n"
     ]
    }
   ],
   "source": [
    "collection = [1,2,3,4,5]\n",
    "for el in collection:\n",
    "    print(\"this el\", el)"
   ]
  },
  {
   "cell_type": "code",
   "execution_count": 4,
   "id": "ab79fc24-bf0b-4237-9632-a0aa46ac488c",
   "metadata": {},
   "outputs": [
    {
     "name": "stdout",
     "output_type": "stream",
     "text": [
      "this el 1\n",
      "this el 2\n",
      "this el 3\n",
      "this el 4\n",
      "this el 5\n"
     ]
    }
   ],
   "source": [
    "it = iter(collection)\n",
    "while True:\n",
    "    try:\n",
    "        el = next(it)\n",
    "        print(\"this el\", el)\n",
    "    except StopIteration as ext:\n",
    "        break\n",
    "    "
   ]
  },
  {
   "cell_type": "code",
   "execution_count": null,
   "id": "a1a4c217-bbab-4fbb-a403-4ce774a879c8",
   "metadata": {},
   "outputs": [],
   "source": []
  }
 ],
 "metadata": {
  "kernelspec": {
   "display_name": "Python 3 (ipykernel)",
   "language": "python",
   "name": "python3"
  },
  "language_info": {
   "codemirror_mode": {
    "name": "ipython",
    "version": 3
   },
   "file_extension": ".py",
   "mimetype": "text/x-python",
   "name": "python",
   "nbconvert_exporter": "python",
   "pygments_lexer": "ipython3",
   "version": "3.12.4"
  }
 },
 "nbformat": 4,
 "nbformat_minor": 5
}
